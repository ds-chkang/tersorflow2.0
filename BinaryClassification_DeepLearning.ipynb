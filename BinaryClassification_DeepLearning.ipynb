{
 "cells": [
  {
   "cell_type": "code",
   "execution_count": 54,
   "id": "cb95e471",
   "metadata": {},
   "outputs": [],
   "source": [
    "import tensorflow as tf\n",
    "import numpy as np"
   ]
  },
  {
   "cell_type": "code",
   "execution_count": 57,
   "id": "5f147496",
   "metadata": {},
   "outputs": [],
   "source": [
    "x_data = np.array([2,4,6,8,10,12,14,16,18,20]).astype(np.float32)\n",
    "y_data = np.array([0,0,0,0,0,0,1,1,1,1]).astype(np.float32)"
   ]
  },
  {
   "cell_type": "code",
   "execution_count": 61,
   "id": "2d9d25d3",
   "metadata": {},
   "outputs": [],
   "source": [
    "model = tf.keras.models.Sequential()\n",
    "model.add(tf.keras.layers.Dense(8, input_shape=(1,), activation='sigmoid'))\n",
    "model.add(tf.keras.layers.Dense(1, activation='sigmoid'))"
   ]
  },
  {
   "cell_type": "code",
   "execution_count": 62,
   "id": "91e63f7c",
   "metadata": {},
   "outputs": [
    {
     "name": "stdout",
     "output_type": "stream",
     "text": [
      "Model: \"sequential_1\"\n",
      "_________________________________________________________________\n",
      " Layer (type)                Output Shape              Param #   \n",
      "=================================================================\n",
      " dense_2 (Dense)             (None, 8)                 16        \n",
      "                                                                 \n",
      " dense_3 (Dense)             (None, 1)                 9         \n",
      "                                                                 \n",
      "=================================================================\n",
      "Total params: 25\n",
      "Trainable params: 25\n",
      "Non-trainable params: 0\n",
      "_________________________________________________________________\n"
     ]
    }
   ],
   "source": [
    "model.compile(tf.keras.optimizers.SGD(learning_rate=0.1),\n",
    "             loss='binary_crossentropy', metrics=['accuracy'])\n",
    "model.summary()"
   ]
  },
  {
   "cell_type": "code",
   "execution_count": 63,
   "id": "6fd94ea3",
   "metadata": {},
   "outputs": [],
   "source": [
    "hist = model.fit(x_data, y_data, epochs=500, verbose=False)"
   ]
  },
  {
   "cell_type": "code",
   "execution_count": 65,
   "id": "5bc4c5b4",
   "metadata": {},
   "outputs": [
    {
     "name": "stdout",
     "output_type": "stream",
     "text": [
      "0.5 [0.0125981] [0.]\n",
      "3.0 [0.03044996] [0.]\n",
      "3.5 [0.0367257] [0.]\n",
      "11.0 [0.37845248] [0.]\n",
      "13.0 [0.5129452] [1.]\n",
      "31.0 [0.84343094] [1.]\n"
     ]
    }
   ],
   "source": [
    "test_data = np.array([0.5, 3.0, 3.5, 11.0, 13.0, 31.0])\n",
    "\n",
    "sigmoid_value = model.predict(test_data)\n",
    "logical_value = tf.cast(sigmoid_value > 0.5, dtype=tf.float32)\n",
    "\n",
    "for i in range(len(test_data)):\n",
    "    print(test_data[i], sigmoid_value[i], logical_value.numpy()[i])"
   ]
  },
  {
   "cell_type": "code",
   "execution_count": null,
   "id": "81795935",
   "metadata": {},
   "outputs": [],
   "source": []
  }
 ],
 "metadata": {
  "kernelspec": {
   "display_name": "Python 3 (ipykernel)",
   "language": "python",
   "name": "python3"
  },
  "language_info": {
   "codemirror_mode": {
    "name": "ipython",
    "version": 3
   },
   "file_extension": ".py",
   "mimetype": "text/x-python",
   "name": "python",
   "nbconvert_exporter": "python",
   "pygments_lexer": "ipython3",
   "version": "3.9.7"
  }
 },
 "nbformat": 4,
 "nbformat_minor": 5
}
